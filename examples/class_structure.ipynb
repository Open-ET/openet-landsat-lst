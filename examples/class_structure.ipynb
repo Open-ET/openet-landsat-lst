{
 "cells": [
  {
   "cell_type": "code",
   "execution_count": 1,
   "metadata": {},
   "outputs": [],
   "source": [
    "import pprint\n",
    "\n",
    "import ee\n",
    "\n",
    "import openet.sharpen\n",
    "\n",
    "ee.Initialize()"
   ]
  },
  {
   "cell_type": "markdown",
   "metadata": {},
   "source": [
    "# Model\n",
    "\n",
    "The Model class can be instantiated from a generic \"prepped\" image (bands renamed, values scaled, properties set, etc.)"
   ]
  },
  {
   "cell_type": "code",
   "execution_count": 2,
   "metadata": {},
   "outputs": [
    {
     "name": "stdout",
     "output_type": "stream",
     "text": [
      "{'bands': [{'crs': 'EPSG:32611',\n",
      "            'crs_transform': [30, 0, 205485, 0, -30, 4268115],\n",
      "            'data_type': {'precision': 'double', 'type': 'PixelType'},\n",
      "            'dimensions': [7821, 7951],\n",
      "            'id': 'tir_sharpened'}],\n",
      " 'properties': {'CLOUD_COVER': 5.37,\n",
      "                'CLOUD_COVER_LAND': 5.37,\n",
      "                'EARTH_SUN_DISTANCE': 1.016694,\n",
      "                'ESPA_VERSION': '2_23_0_1a',\n",
      "                'GEOMETRIC_RMSE_MODEL': 5.19,\n",
      "                'GEOMETRIC_RMSE_MODEL_X': 3.575,\n",
      "                'GEOMETRIC_RMSE_MODEL_Y': 3.762,\n",
      "                'IMAGE_QUALITY_OLI': 9,\n",
      "                'IMAGE_QUALITY_TIRS': 9,\n",
      "                'LANDSAT_ID': 'LC08_L1TP_042034_20180705_20180717_01_T1',\n",
      "                'LEVEL1_PRODUCTION_DATE': 1531807190000,\n",
      "                'PIXEL_QA_VERSION': 'generate_pixel_qa_1.6.0',\n",
      "                'SATELLITE': 'LANDSAT_8',\n",
      "                'SENSING_TIME': '2018-07-05T18:32:48.7929000Z',\n",
      "                'SOLAR_AZIMUTH_ANGLE': 121.79496,\n",
      "                'SOLAR_ZENITH_ANGLE': 23.938202,\n",
      "                'SR_APP_VERSION': 'LaSRC_1.3.0',\n",
      "                'WRS_PATH': 42,\n",
      "                'WRS_ROW': 34,\n",
      "                'energy_conservation': 'True',\n",
      "                'system:time_start': 1530815568790},\n",
      " 'type': 'Image'}\n"
     ]
    }
   ],
   "source": [
    "image_id = 'LANDSAT/LC08/C01/T1_SR/LC08_042034_20180705'\n",
    "\n",
    "input_img = ee.Image(image_id)\n",
    "input_bands = ee.Dictionary({\n",
    "    'LANDSAT_5': ['B1', 'B2', 'B3', 'B4', 'B5', 'B7', 'B6', 'pixel_qa'],\n",
    "    'LANDSAT_7': ['B1', 'B2', 'B3', 'B4', 'B5', 'B7', 'B6', 'pixel_qa'],\n",
    "    'LANDSAT_8': ['B2', 'B3', 'B4', 'B5', 'B6', 'B7', 'B10', 'pixel_qa']})\n",
    "output_bands = ['blue', 'green', 'red', 'nir', 'swir1', 'swir2', 'tir', 'pixel_qa']\n",
    "spacecraft_id = ee.String(input_img.get('SATELLITE'))\n",
    "prep_img = input_img.select(input_bands.get(spacecraft_id), output_bands)\n",
    "# pprint.pprint(prep_img.bandNames().getInfo())\n",
    "\n",
    "pprint.pprint(openet.sharpen.Model(prep_img).thermal().getInfo())"
   ]
  },
  {
   "cell_type": "markdown",
   "metadata": {},
   "source": [
    "# Landsat\n",
    "\n",
    "The Landsat class is instantiated from a Landsat image ID.  This class is basically a wrapper to the other collection/sensor specific Landsat classes (see below)."
   ]
  },
  {
   "cell_type": "code",
   "execution_count": 3,
   "metadata": {},
   "outputs": [
    {
     "name": "stdout",
     "output_type": "stream",
     "text": [
      "{'bands': [{'crs': 'EPSG:32611',\n",
      "            'crs_transform': [30, 0, 205485, 0, -30, 4268115],\n",
      "            'data_type': {'precision': 'double', 'type': 'PixelType'},\n",
      "            'dimensions': [7821, 7951],\n",
      "            'id': 'tir_sharpened'}],\n",
      " 'properties': {'SATELLITE': 'LANDSAT_8',\n",
      "                'energy_conservation': 'True',\n",
      "                'system:time_start': 1530815568790},\n",
      " 'type': 'Image'}\n"
     ]
    }
   ],
   "source": [
    "image_id = 'LANDSAT/LC08/C01/T1_SR/LC08_042034_20180705'\n",
    "# image_id = 'LANDSAT/LC08/C02/T1_L2/LC08_042034_20180705'\n",
    "\n",
    "landsat_obj = openet.sharpen.Landsat(image_id)\n",
    "pprint.pprint(landsat_obj.thermal().getInfo())"
   ]
  },
  {
   "cell_type": "markdown",
   "metadata": {},
   "source": [
    "## Landsat_C02_SR"
   ]
  },
  {
   "cell_type": "code",
   "execution_count": 4,
   "metadata": {},
   "outputs": [
    {
     "name": "stdout",
     "output_type": "stream",
     "text": [
      "{'bands': [{'crs': 'EPSG:32611',\n",
      "            'crs_transform': [30, 0, 205485, 0, -30, 4268115],\n",
      "            'data_type': {'precision': 'double', 'type': 'PixelType'},\n",
      "            'dimensions': [7821, 7951],\n",
      "            'id': 'tir_sharpened'}],\n",
      " 'properties': {'SATELLITE': 'LANDSAT_8',\n",
      "                'energy_conservation': 'True',\n",
      "                'system:time_start': 1530815568792},\n",
      " 'type': 'Image'}\n"
     ]
    }
   ],
   "source": [
    "landsat_obj = openet.sharpen.Landsat_C02_SR(image_id='LANDSAT/LC08/C02/T1_L2/LC08_042034_20180705')\n",
    "pprint.pprint(landsat_obj.thermal().getInfo())"
   ]
  },
  {
   "cell_type": "markdown",
   "metadata": {},
   "source": [
    "## Landsat_C01_SR"
   ]
  },
  {
   "cell_type": "code",
   "execution_count": 5,
   "metadata": {},
   "outputs": [
    {
     "name": "stdout",
     "output_type": "stream",
     "text": [
      "{'bands': [{'crs': 'EPSG:32611',\n",
      "            'crs_transform': [30, 0, 205485, 0, -30, 4268115],\n",
      "            'data_type': {'precision': 'double', 'type': 'PixelType'},\n",
      "            'dimensions': [7821, 7951],\n",
      "            'id': 'tir_sharpened'}],\n",
      " 'properties': {'SATELLITE': 'LANDSAT_8',\n",
      "                'energy_conservation': 'True',\n",
      "                'system:time_start': 1530815568790},\n",
      " 'type': 'Image'}\n"
     ]
    }
   ],
   "source": [
    "landsat_obj = openet.sharpen.Landsat_C01_SR(image_id='LANDSAT/LC08/C01/T1_SR/LC08_042034_20180705')\n",
    "pprint.pprint(landsat_obj.thermal().getInfo())"
   ]
  },
  {
   "cell_type": "markdown",
   "metadata": {},
   "source": [
    "## Landsat_C01_TOA"
   ]
  },
  {
   "cell_type": "code",
   "execution_count": 6,
   "metadata": {},
   "outputs": [
    {
     "name": "stdout",
     "output_type": "stream",
     "text": [
      "{'bands': [{'crs': 'EPSG:32611',\n",
      "            'crs_transform': [30, 0, 205485, 0, -30, 4268115],\n",
      "            'data_type': {'precision': 'double', 'type': 'PixelType'},\n",
      "            'dimensions': [7821, 7951],\n",
      "            'id': 'tir_sharpened'}],\n",
      " 'properties': {'BPF_NAME_OLI': 'LO8BPF20180705181639_20180705183456.01',\n",
      "                'BPF_NAME_TIRS': 'LT8BPF20180628211945_20180713101632.01',\n",
      "                'CLOUD_COVER': 5.369999885559082,\n",
      "                'CLOUD_COVER_LAND': 5.369999885559082,\n",
      "                'COLLECTION_CATEGORY': 'T1',\n",
      "                'COLLECTION_NUMBER': 1,\n",
      "                'CPF_NAME': 'LC08CPF_20180701_20180930_01.01',\n",
      "                'DATA_TYPE': 'L1TP',\n",
      "                'DATE_ACQUIRED': '2018-07-05',\n",
      "                'DATUM': 'WGS84',\n",
      "                'EARTH_SUN_DISTANCE': 1.0166939496994019,\n",
      "                'ELEVATION_SOURCE': 'GLS2000',\n",
      "                'ELLIPSOID': 'WGS84',\n",
      "                'FILE_DATE': 1531807190000,\n",
      "                'GEOMETRIC_RMSE_MODEL': 5.190000057220459,\n",
      "                'GEOMETRIC_RMSE_MODEL_X': 3.575000047683716,\n",
      "                'GEOMETRIC_RMSE_MODEL_Y': 3.76200008392334,\n",
      "                'GEOMETRIC_RMSE_VERIFY': 2.6670000553131104,\n",
      "                'GRID_CELL_SIZE_PANCHROMATIC': 15,\n",
      "                'GRID_CELL_SIZE_REFLECTIVE': 30,\n",
      "                'GRID_CELL_SIZE_THERMAL': 30,\n",
      "                'GROUND_CONTROL_POINTS_MODEL': 569,\n",
      "                'GROUND_CONTROL_POINTS_VERIFY': 218,\n",
      "                'GROUND_CONTROL_POINTS_VERSION': 4,\n",
      "                'IMAGE_QUALITY_OLI': 9,\n",
      "                'IMAGE_QUALITY_TIRS': 9,\n",
      "                'K1_CONSTANT_BAND_10': 774.8853149414062,\n",
      "                'K1_CONSTANT_BAND_11': 480.8883056640625,\n",
      "                'K2_CONSTANT_BAND_10': 1321.078857421875,\n",
      "                'K2_CONSTANT_BAND_11': 1201.1441650390625,\n",
      "                'LANDSAT_PRODUCT_ID': 'LC08_L1TP_042034_20180705_20180717_01_T1',\n",
      "                'LANDSAT_SCENE_ID': 'LC80420342018186LGN00',\n",
      "                'MAP_PROJECTION': 'UTM',\n",
      "                'NADIR_OFFNADIR': 'NADIR',\n",
      "                'ORIENTATION': 'NORTH_UP',\n",
      "                'PANCHROMATIC_LINES': 15901,\n",
      "                'PANCHROMATIC_SAMPLES': 15641,\n",
      "                'PROCESSING_SOFTWARE_VERSION': 'LPGS_13.1.0',\n",
      "                'RADIANCE_ADD_BAND_1': -60.73405838012695,\n",
      "                'RADIANCE_ADD_BAND_10': 0.10000000149011612,\n",
      "                'RADIANCE_ADD_BAND_11': 0.10000000149011612,\n",
      "                'RADIANCE_ADD_BAND_2': -62.192420959472656,\n",
      "                'RADIANCE_ADD_BAND_3': -57.30978012084961,\n",
      "                'RADIANCE_ADD_BAND_4': -48.326839447021484,\n",
      "                'RADIANCE_ADD_BAND_5': -29.573610305786133,\n",
      "                'RADIANCE_ADD_BAND_6': -7.354690074920654,\n",
      "                'RADIANCE_ADD_BAND_7': -2.4789199829101562,\n",
      "                'RADIANCE_ADD_BAND_8': -54.69268035888672,\n",
      "                'RADIANCE_ADD_BAND_9': -11.558039665222168,\n",
      "                'RADIANCE_MULT_BAND_1': 0.012147000059485435,\n",
      "                'RADIANCE_MULT_BAND_10': 0.00033420001273043454,\n",
      "                'RADIANCE_MULT_BAND_11': 0.00033420001273043454,\n",
      "                'RADIANCE_MULT_BAND_2': 0.012438000179827213,\n",
      "                'RADIANCE_MULT_BAND_3': 0.011462000198662281,\n",
      "                'RADIANCE_MULT_BAND_4': 0.00966539978981018,\n",
      "                'RADIANCE_MULT_BAND_5': 0.0059147002175450325,\n",
      "                'RADIANCE_MULT_BAND_6': 0.0014709000242874026,\n",
      "                'RADIANCE_MULT_BAND_7': 0.0004957800265401602,\n",
      "                'RADIANCE_MULT_BAND_8': 0.01093900017440319,\n",
      "                'RADIANCE_MULT_BAND_9': 0.0023115999065339565,\n",
      "                'REFLECTANCE_ADD_BAND_1': -0.10000000149011612,\n",
      "                'REFLECTANCE_ADD_BAND_2': -0.10000000149011612,\n",
      "                'REFLECTANCE_ADD_BAND_3': -0.10000000149011612,\n",
      "                'REFLECTANCE_ADD_BAND_4': -0.10000000149011612,\n",
      "                'REFLECTANCE_ADD_BAND_5': -0.10000000149011612,\n",
      "                'REFLECTANCE_ADD_BAND_6': -0.10000000149011612,\n",
      "                'REFLECTANCE_ADD_BAND_7': -0.10000000149011612,\n",
      "                'REFLECTANCE_ADD_BAND_8': -0.10000000149011612,\n",
      "                'REFLECTANCE_ADD_BAND_9': -0.10000000149011612,\n",
      "                'REFLECTANCE_MULT_BAND_1': 1.9999999494757503e-05,\n",
      "                'REFLECTANCE_MULT_BAND_2': 1.9999999494757503e-05,\n",
      "                'REFLECTANCE_MULT_BAND_3': 1.9999999494757503e-05,\n",
      "                'REFLECTANCE_MULT_BAND_4': 1.9999999494757503e-05,\n",
      "                'REFLECTANCE_MULT_BAND_5': 1.9999999494757503e-05,\n",
      "                'REFLECTANCE_MULT_BAND_6': 1.9999999494757503e-05,\n",
      "                'REFLECTANCE_MULT_BAND_7': 1.9999999494757503e-05,\n",
      "                'REFLECTANCE_MULT_BAND_8': 1.9999999494757503e-05,\n",
      "                'REFLECTANCE_MULT_BAND_9': 1.9999999494757503e-05,\n",
      "                'REFLECTIVE_LINES': 7951,\n",
      "                'REFLECTIVE_SAMPLES': 7821,\n",
      "                'REQUEST_ID': '0701807162923_00002',\n",
      "                'RESAMPLING_OPTION': 'CUBIC_CONVOLUTION',\n",
      "                'RLUT_FILE_NAME': 'LC08RLUT_20150303_20431231_01_12.h5',\n",
      "                'ROLL_ANGLE': -0.0010000000474974513,\n",
      "                'SATELLITE': 'LANDSAT_8',\n",
      "                'SATURATION_BAND_1': 'N',\n",
      "                'SATURATION_BAND_2': 'N',\n",
      "                'SATURATION_BAND_3': 'N',\n",
      "                'SATURATION_BAND_4': 'N',\n",
      "                'SATURATION_BAND_5': 'N',\n",
      "                'SATURATION_BAND_6': 'Y',\n",
      "                'SATURATION_BAND_7': 'Y',\n",
      "                'SATURATION_BAND_8': 'N',\n",
      "                'SATURATION_BAND_9': 'N',\n",
      "                'SCENE_CENTER_TIME': '18:32:48.7929000Z',\n",
      "                'SENSOR_ID': 'OLI_TIRS',\n",
      "                'SPACECRAFT_ID': 'LANDSAT_8',\n",
      "                'STATION_ID': 'LGN',\n",
      "                'SUN_AZIMUTH': 121.79496002197266,\n",
      "                'SUN_ELEVATION': 66.06179809570312,\n",
      "                'TARGET_WRS_PATH': 42,\n",
      "                'TARGET_WRS_ROW': 34,\n",
      "                'THERMAL_LINES': 7951,\n",
      "                'THERMAL_SAMPLES': 7821,\n",
      "                'TIRS_SSM_MODEL': 'FINAL',\n",
      "                'TIRS_SSM_POSITION_STATUS': 'ESTIMATED',\n",
      "                'TIRS_STRAY_LIGHT_CORRECTION_SOURCE': 'TIRS',\n",
      "                'TRUNCATION_OLI': 'UPPER',\n",
      "                'UTM_ZONE': 11,\n",
      "                'WRS_PATH': 42,\n",
      "                'WRS_ROW': 34,\n",
      "                'energy_conservation': 'True',\n",
      "                'google:registration_count': 17,\n",
      "                'google:registration_offset_x': -631.0411987304688,\n",
      "                'google:registration_offset_y': 193.3370819091797,\n",
      "                'google:registration_ratio': 0.28333333134651184,\n",
      "                'system:time_start': 1530815568790},\n",
      " 'type': 'Image'}\n"
     ]
    }
   ],
   "source": [
    "landsat_obj = openet.sharpen.Landsat_C01_TOA(image_id='LANDSAT/LC08/C01/T1_TOA/LC08_042034_20180705')\n",
    "pprint.pprint(landsat_obj.thermal().getInfo())"
   ]
  },
  {
   "cell_type": "code",
   "execution_count": null,
   "metadata": {},
   "outputs": [],
   "source": []
  },
  {
   "cell_type": "code",
   "execution_count": 7,
   "metadata": {},
   "outputs": [
    {
     "ename": "ValueError",
     "evalue": "unsupported collection ID",
     "output_type": "error",
     "traceback": [
      "\u001b[0;31m---------------------------------------------------------------------------\u001b[0m",
      "\u001b[0;31mValueError\u001b[0m                                Traceback (most recent call last)",
      "\u001b[0;32m<ipython-input-7-bc537af6607d>\u001b[0m in \u001b[0;36m<module>\u001b[0;34m\u001b[0m\n\u001b[1;32m      1\u001b[0m \u001b[0;31m# Check that a non TOA image raises a value error\u001b[0m\u001b[0;34m\u001b[0m\u001b[0;34m\u001b[0m\u001b[0;34m\u001b[0m\u001b[0m\n\u001b[0;32m----> 2\u001b[0;31m \u001b[0mlandsat_obj\u001b[0m \u001b[0;34m=\u001b[0m \u001b[0mopenet\u001b[0m\u001b[0;34m.\u001b[0m\u001b[0msharpen\u001b[0m\u001b[0;34m.\u001b[0m\u001b[0mLandsat_C01_TOA\u001b[0m\u001b[0;34m(\u001b[0m\u001b[0mimage_id\u001b[0m\u001b[0;34m=\u001b[0m\u001b[0;34m'LANDSAT/LC08/C01/T1_SR/LC08_042034_20180705'\u001b[0m\u001b[0;34m)\u001b[0m\u001b[0;34m\u001b[0m\u001b[0;34m\u001b[0m\u001b[0m\n\u001b[0m\u001b[1;32m      3\u001b[0m \u001b[0mpprint\u001b[0m\u001b[0;34m(\u001b[0m\u001b[0mlandsat_obj\u001b[0m\u001b[0;34m.\u001b[0m\u001b[0mthermal\u001b[0m\u001b[0;34m(\u001b[0m\u001b[0;34m)\u001b[0m\u001b[0;34m.\u001b[0m\u001b[0mgetInfo\u001b[0m\u001b[0;34m(\u001b[0m\u001b[0;34m)\u001b[0m\u001b[0;34m)\u001b[0m\u001b[0;34m\u001b[0m\u001b[0;34m\u001b[0m\u001b[0m\n",
      "\u001b[0;32m~/miniconda3/envs/openet/lib/python3.6/site-packages/openet/sharpen/landsat.py\u001b[0m in \u001b[0;36m__init__\u001b[0;34m(self, image_id)\u001b[0m\n\u001b[1;32m    124\u001b[0m         elif (image_id.startswith('LANDSAT/') and\n\u001b[1;32m    125\u001b[0m                 not re.match('LANDSAT/L[TEC]0[4578]/C01/T1_TOA', image_id)):\n\u001b[0;32m--> 126\u001b[0;31m             \u001b[0;32mraise\u001b[0m \u001b[0mValueError\u001b[0m\u001b[0;34m(\u001b[0m\u001b[0;34m'unsupported collection ID'\u001b[0m\u001b[0;34m)\u001b[0m\u001b[0;34m\u001b[0m\u001b[0;34m\u001b[0m\u001b[0m\n\u001b[0m\u001b[1;32m    127\u001b[0m         \u001b[0mraw_image\u001b[0m \u001b[0;34m=\u001b[0m \u001b[0mee\u001b[0m\u001b[0;34m.\u001b[0m\u001b[0mImage\u001b[0m\u001b[0;34m(\u001b[0m\u001b[0mimage_id\u001b[0m\u001b[0;34m)\u001b[0m\u001b[0;34m\u001b[0m\u001b[0;34m\u001b[0m\u001b[0m\n\u001b[1;32m    128\u001b[0m \u001b[0;34m\u001b[0m\u001b[0m\n",
      "\u001b[0;31mValueError\u001b[0m: unsupported collection ID"
     ]
    }
   ],
   "source": [
    "# Check that a non TOA image raises a value error\n",
    "landsat_obj = openet.sharpen.Landsat_C01_TOA(image_id='LANDSAT/LC08/C01/T1_SR/LC08_042034_20180705')\n",
    "pprint(landsat_obj.thermal().getInfo())"
   ]
  },
  {
   "cell_type": "code",
   "execution_count": null,
   "metadata": {},
   "outputs": [],
   "source": []
  }
 ],
 "metadata": {
  "kernelspec": {
   "display_name": "Python 3",
   "language": "python",
   "name": "python3"
  },
  "language_info": {
   "codemirror_mode": {
    "name": "ipython",
    "version": 3
   },
   "file_extension": ".py",
   "mimetype": "text/x-python",
   "name": "python",
   "nbconvert_exporter": "python",
   "pygments_lexer": "ipython3",
   "version": "3.6.10"
  }
 },
 "nbformat": 4,
 "nbformat_minor": 4
}
