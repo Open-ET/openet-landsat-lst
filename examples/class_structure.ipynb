{
 "cells": [
  {
   "cell_type": "code",
   "execution_count": 1,
   "metadata": {},
   "outputs": [],
   "source": [
    "import pprint\n",
    "\n",
    "import ee\n",
    "\n",
    "import openet.lst\n",
    "\n",
    "ee.Initialize()"
   ]
  },
  {
   "cell_type": "markdown",
   "metadata": {},
   "source": [
    "# Model\n",
    "\n",
    "The Model class can be instantiated from a generic \"prepped\" image (bands renamed, values scaled, properties set, etc.)"
   ]
  },
  {
   "cell_type": "code",
   "execution_count": 2,
   "metadata": {},
   "outputs": [
    {
     "name": "stdout",
     "output_type": "stream",
     "text": [
      "{'bands': [{'crs': 'EPSG:32611',\n",
      "            'crs_transform': [30, 0, 205485, 0, -30, 4268115],\n",
      "            'data_type': {'precision': 'double', 'type': 'PixelType'},\n",
      "            'dimensions': [7821, 7951],\n",
      "            'id': 'tir_sharpened'}],\n",
      " 'properties': {'ALGORITHM_SOURCE_SURFACE_REFLECTANCE': 'LaSRC_1.5.0',\n",
      "                'ALGORITHM_SOURCE_SURFACE_TEMPERATURE': 'st_1.3.0',\n",
      "                'CLOUD_COVER': 5.37,\n",
      "                'CLOUD_COVER_LAND': 5.37,\n",
      "                'COLLECTION_CATEGORY': 'T1',\n",
      "                'COLLECTION_NUMBER': 2,\n",
      "                'DATA_SOURCE_AIR_TEMPERATURE': 'MODIS',\n",
      "                'DATA_SOURCE_ELEVATION': 'GLS2000',\n",
      "                'DATA_SOURCE_OZONE': 'MODIS',\n",
      "                'DATA_SOURCE_PRESSURE': 'Calculated',\n",
      "                'DATA_SOURCE_REANALYSIS': 'GEOS-5 FP-IT',\n",
      "                'DATA_SOURCE_TIRS_STRAY_LIGHT_CORRECTION': 'TIRS',\n",
      "                'DATA_SOURCE_WATER_VAPOR': 'MODIS',\n",
      "                'DATE_ACQUIRED': '2018-07-05',\n",
      "                'DATE_PRODUCT_GENERATED': 1598879998000,\n",
      "                'DATUM': 'WGS84',\n",
      "                'EARTH_SUN_DISTANCE': 1.016694,\n",
      "                'ELLIPSOID': 'WGS84',\n",
      "                'GEOMETRIC_RMSE_MODEL': 4.397,\n",
      "                'GEOMETRIC_RMSE_MODEL_X': 2.892,\n",
      "                'GEOMETRIC_RMSE_MODEL_Y': 3.312,\n",
      "                'GEOMETRIC_RMSE_VERIFY': 1.567,\n",
      "                'GRID_CELL_SIZE_REFLECTIVE': 30,\n",
      "                'GRID_CELL_SIZE_THERMAL': 30,\n",
      "                'GROUND_CONTROL_POINTS_MODEL': 1032,\n",
      "                'GROUND_CONTROL_POINTS_VERIFY': 207,\n",
      "                'GROUND_CONTROL_POINTS_VERSION': 5,\n",
      "                'IMAGE_QUALITY_OLI': 9,\n",
      "                'IMAGE_QUALITY_TIRS': 9,\n",
      "                'L1_DATE_PRODUCT_GENERATED': '2020-08-31T13:09:39Z',\n",
      "                'L1_LANDSAT_PRODUCT_ID': 'LC08_L1TP_042034_20180705_20200831_02_T1',\n",
      "                'L1_PROCESSING_LEVEL': 'L1TP',\n",
      "                'L1_PROCESSING_SOFTWARE_VERSION': 'LPGS_15.3.1c',\n",
      "                'L1_REQUEST_ID': 'L2',\n",
      "                'LANDSAT_PRODUCT_ID': 'LC08_L2SP_042034_20180705_20200831_02_T1',\n",
      "                'LANDSAT_SCENE_ID': 'LC80420342018186LGN00',\n",
      "                'MAP_PROJECTION': 'UTM',\n",
      "                'NADIR_OFFNADIR': 'NADIR',\n",
      "                'ORIENTATION': 'NORTH_UP',\n",
      "                'PROCESSING_LEVEL': 'L2SP',\n",
      "                'PROCESSING_SOFTWARE_VERSION': 'LPGS_15.3.1c',\n",
      "                'REFLECTANCE_ADD_BAND_1': -0.2,\n",
      "                'REFLECTANCE_ADD_BAND_2': -0.2,\n",
      "                'REFLECTANCE_ADD_BAND_3': -0.2,\n",
      "                'REFLECTANCE_ADD_BAND_4': -0.2,\n",
      "                'REFLECTANCE_ADD_BAND_5': -0.2,\n",
      "                'REFLECTANCE_ADD_BAND_6': -0.2,\n",
      "                'REFLECTANCE_ADD_BAND_7': -0.2,\n",
      "                'REFLECTANCE_MULT_BAND_1': 2.75e-05,\n",
      "                'REFLECTANCE_MULT_BAND_2': 2.75e-05,\n",
      "                'REFLECTANCE_MULT_BAND_3': 2.75e-05,\n",
      "                'REFLECTANCE_MULT_BAND_4': 2.75e-05,\n",
      "                'REFLECTANCE_MULT_BAND_5': 2.75e-05,\n",
      "                'REFLECTANCE_MULT_BAND_6': 2.75e-05,\n",
      "                'REFLECTANCE_MULT_BAND_7': 2.75e-05,\n",
      "                'REFLECTIVE_LINES': 7951,\n",
      "                'REFLECTIVE_SAMPLES': 7821,\n",
      "                'REQUEST_ID': 'L2',\n",
      "                'ROLL_ANGLE': -0.001,\n",
      "                'SATURATION_BAND_1': 'N',\n",
      "                'SATURATION_BAND_2': 'N',\n",
      "                'SATURATION_BAND_3': 'N',\n",
      "                'SATURATION_BAND_4': 'N',\n",
      "                'SATURATION_BAND_5': 'N',\n",
      "                'SATURATION_BAND_6': 'Y',\n",
      "                'SATURATION_BAND_7': 'Y',\n",
      "                'SATURATION_BAND_8': 'N',\n",
      "                'SATURATION_BAND_9': 'N',\n",
      "                'SCENE_CENTER_TIME': '18:32:48.7929000Z',\n",
      "                'SENSOR_ID': 'OLI_TIRS',\n",
      "                'SPACECRAFT_ID': 'LANDSAT_8',\n",
      "                'STATION_ID': 'LGN',\n",
      "                'SUN_AZIMUTH': 121.79495799,\n",
      "                'SUN_ELEVATION': 66.06179834,\n",
      "                'TARGET_WRS_PATH': 42,\n",
      "                'TARGET_WRS_ROW': 34,\n",
      "                'TEMPERATURE_ADD_BAND_ST_B10': 149,\n",
      "                'TEMPERATURE_MAXIMUM_BAND_ST_B10': 372.999941,\n",
      "                'TEMPERATURE_MINIMUM_BAND_ST_B10': 149.003418,\n",
      "                'TEMPERATURE_MULT_BAND_ST_B10': 0.00341802,\n",
      "                'THERMAL_LINES': 7951,\n",
      "                'THERMAL_SAMPLES': 7821,\n",
      "                'TIRS_SSM_MODEL': 'FINAL',\n",
      "                'TIRS_SSM_POSITION_STATUS': 'ESTIMATED',\n",
      "                'TRUNCATION_OLI': 'UPPER',\n",
      "                'UTM_ZONE': 11,\n",
      "                'WRS_PATH': 42,\n",
      "                'WRS_ROW': 34,\n",
      "                'WRS_TYPE': 2,\n",
      "                'energy_conservation': 'True',\n",
      "                'system:time_start': 1530815568792},\n",
      " 'type': 'Image'}\n"
     ]
    }
   ],
   "source": [
    "image_id = 'LANDSAT/LC08/C02/T1_L2/LC08_042034_20180705'\n",
    "\n",
    "input_img = ee.Image(image_id)\n",
    "input_bands = ee.Dictionary({\n",
    "    'LANDSAT_5': ['SR_B1', 'SR_B2', 'SR_B3', 'SR_B4', 'SR_B5', 'SR_B7', 'ST_B6', 'QA_PIXEL'],\n",
    "    'LANDSAT_7': ['SR_B1', 'SR_B2', 'SR_B3', 'SR_B4', 'SR_B5', 'SR_B7', 'ST_B6', 'QA_PIXEL'],\n",
    "    'LANDSAT_8': ['SR_B2', 'SR_B3', 'SR_B4', 'SR_B5', 'SR_B6', 'SR_B7', 'ST_B10', 'QA_PIXEL'],\n",
    "    'LANDSAT_9': ['SR_B2', 'SR_B3', 'SR_B4', 'SR_B5', 'SR_B6', 'SR_B7', 'ST_B10', 'QA_PIXEL'],\n",
    "})\n",
    "output_bands = ['blue', 'green', 'red', 'nir', 'swir1', 'swir2', 'lst', 'qa']\n",
    "spacecraft_id = ee.String(input_img.get('SPACECRAFT_ID'))\n",
    "prep_img = input_img.select(input_bands.get(spacecraft_id), output_bands)\n",
    "# pprint.pprint(prep_img.bandNames().getInfo())\n",
    "\n",
    "pprint.pprint(openet.lst.Model(prep_img).sharpen().getInfo())"
   ]
  },
  {
   "cell_type": "markdown",
   "metadata": {},
   "source": [
    "# Landsat\n",
    "\n",
    "The Landsat class is instantiated from a Landsat image ID.  This class is basically a wrapper to the other collection/sensor specific Landsat classes (see below)."
   ]
  },
  {
   "cell_type": "code",
   "execution_count": 3,
   "metadata": {},
   "outputs": [
    {
     "name": "stdout",
     "output_type": "stream",
     "text": [
      "{'bands': [{'crs': 'EPSG:32611',\n",
      "            'crs_transform': [30, 0, 205485, 0, -30, 4268115],\n",
      "            'data_type': {'precision': 'double', 'type': 'PixelType'},\n",
      "            'dimensions': [7821, 7951],\n",
      "            'id': 'tir_sharpened'}],\n",
      " 'properties': {'SPACECRAFT_ID': 'LANDSAT_8',\n",
      "                'energy_conservation': 'True',\n",
      "                'system:time_start': 1530815568792},\n",
      " 'type': 'Image'}\n"
     ]
    }
   ],
   "source": [
    "image_id = 'LANDSAT/LC08/C02/T1_L2/LC08_042034_20180705'\n",
    "\n",
    "landsat_obj = openet.sharpen.Landsat(image_id)\n",
    "pprint.pprint(landsat_obj.sharpen().getInfo())"
   ]
  },
  {
   "cell_type": "markdown",
   "metadata": {},
   "source": [
    "## Landsat_C02_L2"
   ]
  },
  {
   "cell_type": "code",
   "execution_count": 4,
   "metadata": {},
   "outputs": [
    {
     "name": "stdout",
     "output_type": "stream",
     "text": [
      "{'bands': [{'crs': 'EPSG:32611',\n",
      "            'crs_transform': [30, 0, 205485, 0, -30, 4268115],\n",
      "            'data_type': {'precision': 'double', 'type': 'PixelType'},\n",
      "            'dimensions': [7821, 7951],\n",
      "            'id': 'tir_sharpened'}],\n",
      " 'properties': {'SPACECRAFT_ID': 'LANDSAT_8',\n",
      "                'energy_conservation': 'True',\n",
      "                'system:time_start': 1530815568792},\n",
      " 'type': 'Image'}\n"
     ]
    }
   ],
   "source": [
    "landsat_obj = openet.lst.Landsat_C02_L2(image_id='LANDSAT/LC08/C02/T1_L2/LC08_042034_20180705')\n",
    "pprint.pprint(landsat_obj.sharpen().getInfo())"
   ]
  },
  {
   "cell_type": "code",
   "execution_count": null,
   "metadata": {},
   "outputs": [],
   "source": []
  },
  {
   "cell_type": "code",
   "execution_count": 5,
   "metadata": {},
   "outputs": [
    {
     "ename": "ValueError",
     "evalue": "unsupported collection ID",
     "output_type": "error",
     "traceback": [
      "\u001B[0;31m---------------------------------------------------------------------------\u001B[0m",
      "\u001B[0;31mValueError\u001B[0m                                Traceback (most recent call last)",
      "Cell \u001B[0;32mIn[5], line 2\u001B[0m\n\u001B[1;32m      1\u001B[0m \u001B[38;5;66;03m# Check that a Collection 1 image raises a value error\u001B[39;00m\n\u001B[0;32m----> 2\u001B[0m landsat_obj \u001B[38;5;241m=\u001B[39m \u001B[43mopenet\u001B[49m\u001B[38;5;241;43m.\u001B[39;49m\u001B[43msharpen\u001B[49m\u001B[38;5;241;43m.\u001B[39;49m\u001B[43mLandsat_C02_L2\u001B[49m\u001B[43m(\u001B[49m\u001B[43mimage_id\u001B[49m\u001B[38;5;241;43m=\u001B[39;49m\u001B[38;5;124;43m'\u001B[39;49m\u001B[38;5;124;43mLANDSAT/LC08/C01/T1_SR/LC08_042034_20180705\u001B[39;49m\u001B[38;5;124;43m'\u001B[39;49m\u001B[43m)\u001B[49m\n\u001B[1;32m      3\u001B[0m pprint(landsat_obj\u001B[38;5;241m.\u001B[39mthermal()\u001B[38;5;241m.\u001B[39mgetInfo())\n",
      "File \u001B[0;32m~/miniconda3/envs/openet/lib/python3.11/site-packages/openet/sharpen/landsat.py:34\u001B[0m, in \u001B[0;36mLandsat_C02_L2.__init__\u001B[0;34m(self, image_id)\u001B[0m\n\u001B[1;32m     31\u001B[0m     \u001B[38;5;28;01mraise\u001B[39;00m \u001B[38;5;167;01mValueError\u001B[39;00m(\u001B[38;5;124m'\u001B[39m\u001B[38;5;124munsupported input type\u001B[39m\u001B[38;5;124m'\u001B[39m)\n\u001B[1;32m     32\u001B[0m \u001B[38;5;28;01melif\u001B[39;00m (image_id\u001B[38;5;241m.\u001B[39mstartswith(\u001B[38;5;124m'\u001B[39m\u001B[38;5;124mLANDSAT/\u001B[39m\u001B[38;5;124m'\u001B[39m) \u001B[38;5;129;01mand\u001B[39;00m\n\u001B[1;32m     33\u001B[0m         \u001B[38;5;129;01mnot\u001B[39;00m re\u001B[38;5;241m.\u001B[39mmatch(\u001B[38;5;124m'\u001B[39m\u001B[38;5;124mLANDSAT/L[TEC]0[45789]/C02/T1_L2\u001B[39m\u001B[38;5;124m'\u001B[39m, image_id)):\n\u001B[0;32m---> 34\u001B[0m     \u001B[38;5;28;01mraise\u001B[39;00m \u001B[38;5;167;01mValueError\u001B[39;00m(\u001B[38;5;124m'\u001B[39m\u001B[38;5;124munsupported collection ID\u001B[39m\u001B[38;5;124m'\u001B[39m)\n\u001B[1;32m     36\u001B[0m raw_image \u001B[38;5;241m=\u001B[39m ee\u001B[38;5;241m.\u001B[39mImage(image_id)\n\u001B[1;32m     38\u001B[0m \u001B[38;5;66;03m# CGM - Testing out not setting any self. parameters and passing inputs\u001B[39;00m\n\u001B[1;32m     39\u001B[0m \u001B[38;5;66;03m#   to the super().__init__() call instead\u001B[39;00m\n",
      "\u001B[0;31mValueError\u001B[0m: unsupported collection ID"
     ]
    }
   ],
   "source": [
    "# Check that a Collection 1 image raises a value error\n",
    "landsat_obj = openet.lst.Landsat_C02_L2(image_id='LANDSAT/LC08/C01/T1_SR/LC08_042034_20180705')\n",
    "pprint(landsat_obj.sharpen().getInfo())"
   ]
  },
  {
   "cell_type": "code",
   "execution_count": null,
   "metadata": {},
   "outputs": [],
   "source": []
  }
 ],
 "metadata": {
  "kernelspec": {
   "display_name": "Python 3 (ipykernel)",
   "language": "python",
   "name": "python3"
  },
  "language_info": {
   "codemirror_mode": {
    "name": "ipython",
    "version": 3
   },
   "file_extension": ".py",
   "mimetype": "text/x-python",
   "name": "python",
   "nbconvert_exporter": "python",
   "pygments_lexer": "ipython3",
   "version": "3.11.8"
  }
 },
 "nbformat": 4,
 "nbformat_minor": 4
}
