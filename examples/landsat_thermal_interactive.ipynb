{
 "cells": [
  {
   "cell_type": "markdown",
   "metadata": {},
   "source": [
    "## Landsat Thermal Sharpening Example - Interactive"
   ]
  },
  {
   "cell_type": "code",
   "execution_count": 1,
   "metadata": {},
   "outputs": [],
   "source": [
    "import ee\n",
    "import folium\n",
    "\n",
    "import openet.sharpen\n",
    "\n",
    "# ee.Authenticate()\n",
    "ee.Initialize(use_cloud_api=True)"
   ]
  },
  {
   "cell_type": "code",
   "execution_count": 2,
   "metadata": {},
   "outputs": [],
   "source": [
    "viridis_palette = ['#440154', '#433982', '#30678D', '#218F8B', '#36B677', '#8ED542', '#FDE725']\n",
    "\n",
    "image_size = 768\n"
   ]
  },
  {
   "cell_type": "code",
   "execution_count": 3,
   "metadata": {},
   "outputs": [],
   "source": [
    "landsat_id = 'LC08_042034_20180705'\n",
    "landsat_sr_img = ee.Image('LANDSAT/LC08/C01/T1_SR/{}'.format(landsat_id))\n",
    "\n",
    "map_xy = [-120, 37]\n",
    "# map_xy = landsat_sr_img.geometry().centroid().getInfo()['coordinates']\n",
    "# print(map_xy)\n",
    "\n",
    "max_zoom = 12\n"
   ]
  },
  {
   "cell_type": "code",
   "execution_count": 4,
   "metadata": {},
   "outputs": [],
   "source": [
    "# \"Prep\" the Landsat SR image\n",
    "# Copied from PTJPL Image.from_landsat_c1_sr()\n",
    "# The \"SATELLITE\" property must be set on the image for the algorithm to work\n",
    "input_bands = ee.Dictionary({\n",
    "    'LANDSAT_5': ['B1', 'B2', 'B3', 'B4', 'B5', 'B7', 'B6', 'pixel_qa'],\n",
    "    'LANDSAT_7': ['B1', 'B2', 'B3', 'B4', 'B5', 'B7', 'B6', 'pixel_qa'],\n",
    "    'LANDSAT_8': ['B2', 'B3', 'B4', 'B5', 'B6', 'B7', 'B10', 'pixel_qa']})\n",
    "output_bands = ['blue', 'green', 'red', 'nir', 'swir1', 'swir2', 'tir', 'pixel_qa']\n",
    "spacecraft_id = ee.String(landsat_sr_img.get('SATELLITE'))\n",
    "prep_img = landsat_sr_img \\\n",
    "    .select(input_bands.get(spacecraft_id), output_bands) \\\n",
    "    .multiply([0.0001, 0.0001, 0.0001, 0.0001, 0.0001, 0.0001, 0.1, 1]) \\\n",
    "    .set({'system:index': landsat_sr_img.get('system:index'),\n",
    "          'system:time_start': landsat_sr_img.get('system:time_start'),\n",
    "          'system:id': landsat_sr_img.get('system:id'), \n",
    "          'SATELLITE': spacecraft_id,\n",
    "         })\n",
    "\n",
    "# Run the sharpening algorithm\n",
    "output_img = openet.sharpen.thermal.landsat(prep_img)\n"
   ]
  },
  {
   "cell_type": "code",
   "execution_count": 5,
   "metadata": {},
   "outputs": [],
   "source": [
    "# Define a method for displaying Earth Engine image tiles to folium map.\n",
    "def add_ee_layer(self, ee_image_object, vis_params, name, show=True):\n",
    "    map_id_dict = ee.Image(ee_image_object).getMapId(vis_params)\n",
    "    folium.raster_layers.TileLayer(\n",
    "        tiles=map_id_dict['tile_fetcher'].url_format,\n",
    "        attr=\"Map Data © Google Earth Engine\",\n",
    "        name=name,\n",
    "        overlay=True,\n",
    "        control=True,\n",
    "        show=show\n",
    "    ).add_to(self)\n",
    "\n",
    "# Add EE drawing method to folium.\n",
    "folium.Map.add_ee_layer = add_ee_layer"
   ]
  },
  {
   "cell_type": "code",
   "execution_count": 7,
   "metadata": {},
   "outputs": [
    {
     "data": {
      "text/html": [
       "<div style=\"width:100%;\"><div style=\"position:relative;width:100%;height:0;padding-bottom:60%;\"><iframe src=\"about:blank\" style=\"position:absolute;width:100%;height:100%;left:0;top:0;border:none !important;\" data-html=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 onload=\"this.contentDocument.open();this.contentDocument.write(atob(this.getAttribute('data-html')));this.contentDocument.close();\" allowfullscreen webkitallowfullscreen mozallowfullscreen></iframe></div></div>"
      ],
      "text/plain": [
       "<folium.folium.Map at 0x11c142160>"
      ]
     },
     "metadata": {},
     "output_type": "display_data"
    }
   ],
   "source": [
    "my_map = folium.Map(location=[map_xy[1], map_xy[0]], zoom_start=max_zoom, height=image_size)\n",
    "\n",
    "# Add the layers to the map\n",
    "my_map.add_ee_layer(\n",
    "    landsat_sr_img.select([3, 2, 1]), {'min': 0, 'max': 3000}, 'True Color', False)\n",
    "my_map.add_ee_layer(\n",
    "    landsat_sr_img.select(['B10']), \n",
    "    {'min': 2950, 'max': 3250, 'palette': viridis_palette}, 'Thermal Raw', False)\n",
    "my_map.add_ee_layer(\n",
    "    prep_img.select(['tir']), \n",
    "    {'min': 295, 'max': 325, 'palette': viridis_palette}, 'Thermal Original', False)\n",
    "my_map.add_ee_layer(\n",
    "    output_img.select(['tir_sharpened']), \n",
    "    {'min': 295, 'max': 325, 'palette': viridis_palette}, 'Thermal Sharpened')\n",
    "my_map.add_ee_layer(\n",
    "    prep_img.select(['tir']).subtract(output_img.select(['tir_sharpened'])), \n",
    "    {'min': -5, 'max': 5, 'palette': ['ff0000', 'ffffff', '0000ff']}, 'Difference')\n",
    "\n",
    "my_map.add_child(folium.LayerControl())\n",
    "display(my_map)"
   ]
  },
  {
   "cell_type": "code",
   "execution_count": null,
   "metadata": {},
   "outputs": [],
   "source": []
  },
  {
   "cell_type": "code",
   "execution_count": null,
   "metadata": {},
   "outputs": [],
   "source": []
  }
 ],
 "metadata": {
  "kernelspec": {
   "display_name": "Python 3",
   "language": "python",
   "name": "python3"
  },
  "language_info": {
   "codemirror_mode": {
    "name": "ipython",
    "version": 3
   },
   "file_extension": ".py",
   "mimetype": "text/x-python",
   "name": "python",
   "nbconvert_exporter": "python",
   "pygments_lexer": "ipython3",
   "version": "3.6.9"
  }
 },
 "nbformat": 4,
 "nbformat_minor": 4
}
